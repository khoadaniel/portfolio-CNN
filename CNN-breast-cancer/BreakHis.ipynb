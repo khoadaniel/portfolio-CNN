{
 "cells": [
  {
   "cell_type": "code",
   "execution_count": 10,
   "metadata": {},
   "outputs": [
    {
     "name": "stdout",
     "output_type": "stream",
     "text": [
      "Defaulting to user installation because normal site-packages is not writeable\n",
      "Collecting opencv-python\n",
      "  Downloading opencv_python-4.6.0.66-cp36-abi3-macosx_10_15_x86_64.whl (46.4 MB)\n",
      "\u001b[K     |████████████████████████████████| 46.4 MB 41.2 MB/s eta 0:00:01\n",
      "\u001b[?25hRequirement already satisfied: numpy>=1.17.3 in /Users/dle/.local/lib/python3.8/site-packages (from opencv-python) (1.22.3)\n",
      "Installing collected packages: opencv-python\n",
      "Successfully installed opencv-python-4.6.0.66\n",
      "Note: you may need to restart the kernel to use updated packages.\n"
     ]
    }
   ],
   "source": [
    "%pip install opencv-python"
   ]
  },
  {
   "cell_type": "code",
   "execution_count": 5,
   "metadata": {},
   "outputs": [],
   "source": [
    "import json\n",
    "import math\n",
    "import os\n",
    "import cv2 #this is from opencv-python\n",
    "from PIL import Image\n",
    "    #deal with images: https://pillow.readthedocs.io/en/stable/reference/Image.html\n",
    "import numpy as np\n",
    "from keras import layers\n",
    "from keras.applications import DenseNet201\n",
    "from keras.callbacks import Callback, ModelCheckpoint, ReduceLROnPlateau, TensorBoard\n",
    "from keras.preprocessing.image import ImageDataGenerator\n",
    "from keras.utils.np_utils import to_categorical\n",
    "from keras.models import Sequential\n",
    "from keras.optimizers import Adam\n",
    "import matplotlib.pyplot as plt\n",
    "import pandas as pd\n",
    "from sklearn.model_selection import train_test_split\n",
    "from sklearn.metrics import cohen_kappa_score, accuracy_score\n",
    "import scipy\n",
    "from tqdm import tqdm\n",
    "import tensorflow as tf\n",
    "from keras import backend as K\n",
    "import gc\n",
    "from functools import partial\n",
    "from sklearn import metrics\n",
    "from collections import Counter\n",
    "import json\n",
    "import itertools"
   ]
  },
  {
   "cell_type": "code",
   "execution_count": 6,
   "metadata": {},
   "outputs": [
    {
     "data": {
      "text/plain": [
       "['SOB_B_A-14-29960CD-400-009.png',\n",
       " '.DS_Store',\n",
       " 'SOB_B_A-14-29960CD-400-008.png',\n",
       " 'SOB_B_A-14-22549G-400-005.png',\n",
       " 'SOB_B_A-14-22549G-400-011.png',\n",
       " 'SOB_B_A-14-22549G-400-010.png',\n",
       " 'SOB_B_A-14-22549G-400-004.png',\n",
       " 'SOB_B_A-14-22549G-400-012.png',\n",
       " 'SOB_B_A-14-22549G-400-006.png',\n",
       " 'SOB_B_A-14-22549G-400-007.png',\n",
       " 'SOB_B_A-14-22549G-400-013.png',\n",
       " 'SOB_B_A-14-22549G-400-017.png',\n",
       " 'SOB_B_A-14-22549G-400-003.png',\n",
       " 'SOB_B_A-14-22549G-400-002.png',\n",
       " 'SOB_B_A-14-22549G-400-016.png',\n",
       " 'SOB_B_A-14-22549CD-400-029.png',\n",
       " 'SOB_B_A-14-22549G-400-028.png',\n",
       " 'SOB_B_A-14-22549G-400-014.png',\n",
       " 'SOB_B_A-14-22549G-400-015.png',\n",
       " 'SOB_B_A-14-22549G-400-001.png',\n",
       " 'SOB_B_A-14-22549G-400-029.png',\n",
       " 'SOB_B_A-14-22549CD-400-028.png',\n",
       " 'SOB_B_A-14-22549CD-400-025.png',\n",
       " 'SOB_B_A-14-22549G-400-024.png',\n",
       " 'SOB_B_A-14-22549G-400-018.png',\n",
       " 'SOB_B_A-14-22549G-400-019.png',\n",
       " 'SOB_B_A-14-22549G-400-025.png',\n",
       " 'SOB_B_A-14-22549CD-400-030.png',\n",
       " 'SOB_B_A-14-22549CD-400-026.png',\n",
       " 'SOB_B_A-14-22549G-400-027.png',\n",
       " 'SOB_B_A-14-22549G-400-026.png',\n",
       " 'SOB_B_A-14-22549CD-400-027.png',\n",
       " 'SOB_B_A-14-22549G-400-022.png',\n",
       " 'SOB_B_A-14-22549G-400-023.png',\n",
       " 'SOB_B_A-14-22549G-400-009.png',\n",
       " 'SOB_B_A-14-22549G-400-021.png',\n",
       " 'SOB_B_A-14-22549G-400-020.png',\n",
       " 'SOB_B_A-14-22549G-400-008.png',\n",
       " 'SOB_B_A-14-29960CD-400-006.png',\n",
       " 'SOB_B_A-14-29960CD-400-012.png',\n",
       " 'SOB_B_A-14-29960CD-400-013.png',\n",
       " 'SOB_B_A-14-29960CD-400-007.png',\n",
       " 'SOB_B_A-14-29960CD-400-011.png',\n",
       " 'SOB_B_A-14-29960CD-400-005.png',\n",
       " 'SOB_B_A-14-29960CD-400-004.png',\n",
       " 'SOB_B_A-14-29960CD-400-010.png',\n",
       " 'SOB_B_A-14-29960CD-400-014.png',\n",
       " 'SOB_B_A-14-29960CD-400-001.png',\n",
       " 'SOB_B_A-14-29960CD-400-015.png',\n",
       " 'SOB_B_A-14-29960CD-400-003.png',\n",
       " 'SOB_B_A-14-29960CD-400-017.png',\n",
       " 'SOB_B_A-14-29960CD-400-016.png',\n",
       " 'SOB_B_A-14-29960CD-400-002.png']"
      ]
     },
     "execution_count": 6,
     "metadata": {},
     "output_type": "execute_result"
    }
   ],
   "source": [
    "DIR='data/train/benign'\n",
    "os.listdir(DIR)"
   ]
  },
  {
   "cell_type": "code",
   "execution_count": 9,
   "metadata": {},
   "outputs": [
    {
     "name": "stdout",
     "output_type": "stream",
     "text": [
      "data/train/benign/SOB_B_A-14-29960CD-400-003\n",
      ".png\n"
     ]
    }
   ],
   "source": [
    "PATH = os.path.join(DIR,'SOB_B_A-14-29960CD-400-003.png')\n",
    "_, ftype = os.path.splitext(PATH)\n",
    "print(_)\n",
    "print(ftype)"
   ]
  },
  {
   "cell_type": "code",
   "execution_count": 12,
   "metadata": {},
   "outputs": [
    {
     "name": "stderr",
     "output_type": "stream",
     "text": [
      "100%|██████████| 53/53 [00:01<00:00, 40.43it/s]\n",
      "100%|██████████| 132/132 [00:02<00:00, 44.29it/s]\n",
      "100%|██████████| 54/54 [00:01<00:00, 47.95it/s]\n",
      "100%|██████████| 32/32 [00:00<00:00, 46.04it/s]\n"
     ]
    }
   ],
   "source": [
    "def Dataset_loader(DIR, RESIZE, sigmaX=10):\n",
    "    IMG = []\n",
    "    read = lambda imname: np.asarray(Image.open(imname).convert(\"RGB\")) #create a function to read images, using 'Image' from PIL\n",
    "    for IMAGE_NAME in tqdm(os.listdir(DIR)): #the qddm is just to show the process bar\n",
    "        PATH = os.path.join(DIR,IMAGE_NAME)\n",
    "        _, ftype = os.path.splitext(PATH) #this is filter only files with .png because there are system's files in the folder too\n",
    "        if ftype == \".png\":\n",
    "            img = read(PATH)        \n",
    "            img = cv2.resize(img, (RESIZE,RESIZE)) #this is 224x224, the original size is 400x400          \n",
    "            IMG.append(np.array(img)) #append to list\n",
    "    return IMG\n",
    "\n",
    "benign_train = np.array(Dataset_loader('data/train/benign',224))\n",
    "malign_train = np.array(Dataset_loader('data/train/malignant',224))\n",
    "benign_test = np.array(Dataset_loader('data/validation/benign',224))\n",
    "malign_test = np.array(Dataset_loader('data/validation/malignant',224))"
   ]
  },
  {
   "cell_type": "code",
   "execution_count": null,
   "metadata": {},
   "outputs": [],
   "source": []
  }
 ],
 "metadata": {
  "interpreter": {
   "hash": "3aeb15c8c31224d9ef37a76c0046f703a279f439b6efd04fb2681e5f2715bf2f"
  },
  "kernelspec": {
   "display_name": "Python 3.8.8 ('base')",
   "language": "python",
   "name": "python3"
  },
  "language_info": {
   "codemirror_mode": {
    "name": "ipython",
    "version": 3
   },
   "file_extension": ".py",
   "mimetype": "text/x-python",
   "name": "python",
   "nbconvert_exporter": "python",
   "pygments_lexer": "ipython3",
   "version": "3.8.8"
  },
  "orig_nbformat": 4
 },
 "nbformat": 4,
 "nbformat_minor": 2
}
